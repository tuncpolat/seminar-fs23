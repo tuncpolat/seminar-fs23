{
 "cells": [
  {
   "cell_type": "code",
   "execution_count": null,
   "id": "63749037",
   "metadata": {},
   "outputs": [],
   "source": [
    "# list daos"
   ]
  },
  {
   "cell_type": "code",
   "execution_count": 3,
   "id": "96eb7f67",
   "metadata": {},
   "outputs": [],
   "source": [
    "import pandas as pd\n",
    "import os\n",
    "import requests"
   ]
  },
  {
   "cell_type": "code",
   "execution_count": 21,
   "id": "490d780a",
   "metadata": {},
   "outputs": [],
   "source": [
    "os.chdir(r\"C:\\Users\\tunc-\\Desktop\\uni\\04_FS23\\seminar\\03_code\")"
   ]
  },
  {
   "cell_type": "code",
   "execution_count": 4,
   "id": "26e71937",
   "metadata": {},
   "outputs": [
    {
     "name": "stdout",
     "output_type": "stream",
     "text": [
      "Balance of UNI tokens for account 0x2b1ad6184a6b0fac06bd225ed37c2abc04415ff4: 0.0 UNI\n"
     ]
    }
   ],
   "source": [
    "infura_url = \"https://mainnet.infura.io/v3/2a40076f1383494a91dd0e881dc6ac14\"\n",
    "etherscan_api_key = \"PJBVZ3BE1AI5AKIMXGK1HNC59PCDH7CQSP\"\n",
    "tally_api_key = \"6543a80051a84805ddf147c49e6e1ac5cc272518479c8bad38b71117a2d06c0c\"\n",
    "uni_token_contract_address = \"0x1f9840a85d5aF5bf1D1762F925BDADdC4201F984\" # Uniswap UNI token contract address\n",
    "uni_governorbravo_contract_address = \"0x408ED6354d4973f66138C91495F2f2FCbd8724C3\" # Uni Governor Bravo address\n",
    "uni_timelock_contract_address = \"0x1a9C8182C09F50C8318d769245beA52c32BE35BC\" # Uni Governor Bravo address\n",
    "\n",
    "\n",
    "def get_uni_token_balance(api_key, contract_address, account_address):\n",
    "    url = \"https://api.etherscan.io/api\"\n",
    "    \n",
    "    params = {\n",
    "        \"module\": \"account\",\n",
    "        \"action\": \"tokenbalance\",\n",
    "        \"contractaddress\": contract_address,\n",
    "        \"address\": account_address,\n",
    "        \"tag\": \"latest\",\n",
    "        \"apikey\": api_key\n",
    "    }\n",
    "    \n",
    "    response = requests.get(url, params=params)\n",
    "    return response.json()\n",
    "\n",
    "def main():\n",
    "    \n",
    "    uni_governor_\n",
    "    account_address = \"0x2b1ad6184a6b0fac06bd225ed37c2abc04415ff4\" # a16z\n",
    "\n",
    "    result = get_uni_token_balance(etherscan_api_key, uni_token_contract_address, account_address)\n",
    "    token_balance = int(result[\"result\"]) / 10**18  # Convert from wei to UNI\n",
    "\n",
    "    print(f\"Balance of UNI tokens for account {account_address}: {token_balance} UNI\")\n",
    "\n",
    "if __name__ == \"__main__\":\n",
    "    main()"
   ]
  },
  {
   "cell_type": "code",
   "execution_count": null,
   "id": "0e472dbb",
   "metadata": {},
   "outputs": [],
   "source": []
  }
 ],
 "metadata": {
  "kernelspec": {
   "display_name": "Python 3 (ipykernel)",
   "language": "python",
   "name": "python3"
  },
  "language_info": {
   "codemirror_mode": {
    "name": "ipython",
    "version": 3
   },
   "file_extension": ".py",
   "mimetype": "text/x-python",
   "name": "python",
   "nbconvert_exporter": "python",
   "pygments_lexer": "ipython3",
   "version": "3.9.12"
  }
 },
 "nbformat": 4,
 "nbformat_minor": 5
}
