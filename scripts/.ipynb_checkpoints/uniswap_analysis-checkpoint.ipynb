{
 "cells": [
  {
   "cell_type": "code",
   "execution_count": 1,
   "id": "96eb7f67",
   "metadata": {},
   "outputs": [],
   "source": [
    "import pandas as pd\n",
    "import matplotlib.pyplot as plt\n",
    "from matplotlib.lines import Line2D\n",
    "from matplotlib.ticker import FuncFormatter\n",
    "import os\n",
    "import requests\n",
    "import csv\n",
    "from decimal import Decimal\n",
    "import seaborn as sns\n",
    "import numpy as np\n",
    "import json\n",
    "from brownie import *\n",
    "from web3 import Web3\n",
    "from bs4 import BeautifulSoup"
   ]
  },
  {
   "cell_type": "code",
   "execution_count": 2,
   "id": "15921875",
   "metadata": {},
   "outputs": [],
   "source": [
    "# load env file - etherscan & infura api (create .env file in same directory)\n",
    "\n",
    "\"\"\"\n",
    "WEB3_INFURA_PROJECT_ID=YOUR_API_TOKEN\n",
    "ETHERSCAN_TOKEN=YOUR_API_TOKEN\n",
    "\"\"\"\n",
    "\n",
    "%load_ext dotenv\n",
    "%dotenv"
   ]
  },
  {
   "cell_type": "code",
   "execution_count": 3,
   "id": "1de9c2e5",
   "metadata": {},
   "outputs": [],
   "source": [
    "os.chdir(r\"C:\\Users\\tunc-\\Desktop\\uni\\04_FS23\\seminar\\03_code\") # use your root"
   ]
  },
  {
   "cell_type": "code",
   "execution_count": 4,
   "id": "26e71937",
   "metadata": {},
   "outputs": [],
   "source": [
    "tally_api_key = \"xxx\" # tally.xyz API Key\n",
    "uni_token_contract_address = \"0x1f9840a85d5aF5bf1D1762F925BDADdC4201F984\" # Uniswap UNI token contract address\n",
    "uni_governorbravo_contract_address = \"0x408ED6354d4973f66138C91495F2f2FCbd8724C3\" # Uni Governor Bravo address\n",
    "uni_timelock_contract_address = \"0x1a9C8182C09F50C8318d769245beA52c32BE35BC\" # Uni Governor Bravo address"
   ]
  },
  {
   "cell_type": "markdown",
   "id": "97e03f75",
   "metadata": {},
   "source": [
    "## Files Preparation"
   ]
  },
  {
   "cell_type": "markdown",
   "id": "cdc13fb9",
   "metadata": {},
   "source": [
    "#### Helper functions for GraphQL tally.xyz API"
   ]
  },
  {
   "cell_type": "code",
   "execution_count": 5,
   "id": "3e0c6d76",
   "metadata": {},
   "outputs": [],
   "source": [
    "def fetch_proposal_data(governor_address):\n",
    "    url = \"https://api.tally.xyz/query\"\n",
    "\n",
    "    headers = {\n",
    "        \"Api-key\": tally_api_key,\n",
    "        \"Content-Type\": \"application/json\"\n",
    "    }\n",
    "\n",
    "    query = '''\n",
    "    query Governors($chainIds: [ChainID!], $addresses: [Address!], $ids: [AccountID!], $includeInactive: Boolean, $pagination: Pagination, $sort: GovernorSort) {\n",
    "      governors(chainIds: $chainIds, addresses: $addresses, ids: $ids, includeInactive: $includeInactive, pagination: $pagination, sort: $sort) {\n",
    "        id\n",
    "        type\n",
    "        lastIndexedBlock {\n",
    "          id\n",
    "          number\n",
    "          timestamp\n",
    "        }\n",
    "        proposals {\n",
    "          id\n",
    "          proposer {\n",
    "            address\n",
    "            ens\n",
    "          }\n",
    "          start {\n",
    "            number\n",
    "            timestamp\n",
    "          }\n",
    "          end {\n",
    "            number\n",
    "            timestamp\n",
    "          }\n",
    "          votes {\n",
    "            id\n",
    "            weight\n",
    "            support\n",
    "            transaction {\n",
    "              block {\n",
    "                timestamp\n",
    "              }\n",
    "            }\n",
    "          }\n",
    "        }\n",
    "        quorum\n",
    "        name\n",
    "      }\n",
    "    }\n",
    "    '''\n",
    "\n",
    "    variables = {\n",
    "        \"chainIds\": [\"eip155:1\"],\n",
    "        \"addresses\": [governor_address],\n",
    "        \"ids\": [f\"eip155:1:{governor_address}\"],\n",
    "        \"includeInactive\": True,\n",
    "        \"pagination\": {\"limit\": 20, \"offset\": 0},\n",
    "        \"sort\": {\"field\": \"TOTAL_PROPOSALS\", \"order\": \"ASC\"}\n",
    "    }\n",
    "\n",
    "    payload = {\n",
    "        \"query\": query,\n",
    "        \"variables\": variables\n",
    "    }\n",
    "\n",
    "    response = requests.post(url, headers=headers, data=json.dumps(payload))\n",
    "\n",
    "    if response.status_code == 200:\n",
    "        return response.json()\n",
    "    else:\n",
    "        raise Exception(f\"Query failed with status code {response.status_code}\")"
   ]
  },
  {
   "cell_type": "code",
   "execution_count": 6,
   "id": "b7d5e8c2",
   "metadata": {},
   "outputs": [],
   "source": [
    "def fetch_delegates_addresses(governor_address):\n",
    "    url = \"https://api.tally.xyz/query\"\n",
    "\n",
    "    headers = {\n",
    "        \"Api-key\": tally_api_key,\n",
    "        \"Content-Type\": \"application/json\"\n",
    "    }\n",
    "\n",
    "    query = '''\n",
    "    query Governors($chainIds: [ChainID!], $addresses: [Address!], $ids: [AccountID!]) {\n",
    "      governors(chainIds: $chainIds, addresses: $addresses, ids: $ids) {\n",
    "        id\n",
    "        type\n",
    "        delegates {\n",
    "          account {\n",
    "            address\n",
    "          }\n",
    "        }\n",
    "        name\n",
    "      }\n",
    "    }\n",
    "    '''\n",
    "\n",
    "    variables = {\n",
    "        \"chainIds\": [\"eip155:1\"],\n",
    "        \"addresses\": [governor_address],\n",
    "        \"ids\": [f\"eip155:1:{governor_address}\"]\n",
    "    }\n",
    "\n",
    "    payload = {\n",
    "        \"query\": query,\n",
    "        \"variables\": variables\n",
    "    }\n",
    "\n",
    "    response = requests.post(url, headers=headers, data=json.dumps(payload))\n",
    "\n",
    "    if response.status_code == 200:\n",
    "        return response.json()\n",
    "    else:\n",
    "        raise Exception(f\"Query failed with status code {response.status_code}\")"
   ]
  },
  {
   "cell_type": "markdown",
   "id": "da8fde12",
   "metadata": {},
   "source": [
    "#### Helper functions to create CSV files"
   ]
  },
  {
   "cell_type": "code",
   "execution_count": 7,
   "id": "52fa9529",
   "metadata": {},
   "outputs": [],
   "source": [
    "def create_csv_from_proposal_response_data(data: str, output_filename: str):\n",
    "    proposals = data[\"data\"][\"governors\"][0][\"proposals\"]\n",
    "\n",
    "    with open(output_filename, \"w\", newline=\"\") as csvfile:\n",
    "        fieldnames = [\n",
    "            \"governorId\",\n",
    "            \"type\",\n",
    "            \"proposalId\",\n",
    "            \"proposerAddress\",\n",
    "            \"proposerEns\",\n",
    "            \"proposalStart\",\n",
    "            \"proposalEnd\",\n",
    "            \"proposalStartBlock\",\n",
    "            \"proposalEndBlock\",\n",
    "            \"votesId\",\n",
    "            \"votesWeight\",\n",
    "            \"votesSupport\",\n",
    "            \"votesTimestamp\",\n",
    "            \"quorum\",\n",
    "            \"name\",\n",
    "        ]\n",
    "        writer = csv.DictWriter(csvfile, fieldnames=fieldnames)\n",
    "        writer.writeheader()\n",
    "\n",
    "        governor = data[\"data\"][\"governors\"][0]\n",
    "        for proposal in proposals:\n",
    "            if len(proposal[\"votes\"]) > 1:\n",
    "                for vote in proposal[\"votes\"]:\n",
    "                    row = {\n",
    "                        \"governorId\": governor[\"id\"],\n",
    "                        \"type\": governor[\"type\"],\n",
    "                        \"proposalId\": proposal[\"id\"],\n",
    "                        \"proposerAddress\": proposal[\"proposer\"][\"address\"],\n",
    "                        \"proposerEns\": proposal[\"proposer\"][\"ens\"],\n",
    "                        \"proposalStart\": proposal[\"start\"][\"timestamp\"],\n",
    "                        \"proposalEnd\": proposal[\"end\"][\"timestamp\"],\n",
    "                        \"proposalStartBlock\": proposal[\"start\"][\"number\"],\n",
    "                        \"proposalEndBlock\": proposal[\"end\"][\"number\"],\n",
    "                        \"votesId\": vote[\"id\"],\n",
    "                        \"votesWeight\": vote[\"weight\"],\n",
    "                        \"votesSupport\": vote[\"support\"],\n",
    "                        \"votesTimestamp\": vote[\"transaction\"][\"block\"][\"timestamp\"],\n",
    "                        \"quorum\": governor[\"quorum\"],\n",
    "                        \"name\": governor[\"name\"],\n",
    "                    }\n",
    "                    writer.writerow(row)"
   ]
  },
  {
   "cell_type": "code",
   "execution_count": 8,
   "id": "b28d9dfe",
   "metadata": {},
   "outputs": [],
   "source": [
    "def create_csv_from_delegates_response_data(data: str, output_filename: str):\n",
    "    delegates = data[\"data\"][\"governors\"][0][\"delegates\"]\n",
    "\n",
    "    with open(output_filename, \"w\", newline=\"\") as csvfile:\n",
    "        fieldnames = [\n",
    "            \"governorId\",\n",
    "            \"type\",\n",
    "            \"address\",\n",
    "            \"name\",\n",
    "        ]\n",
    "        writer = csv.DictWriter(csvfile, fieldnames=fieldnames)\n",
    "        writer.writeheader()\n",
    "\n",
    "        governor = data[\"data\"][\"governors\"][0]\n",
    "        for delegate in delegates:\n",
    "            row = {\n",
    "                \"governorId\": governor[\"id\"],\n",
    "                \"type\": governor[\"type\"],\n",
    "                \"address\": delegate[\"account\"][\"address\"],\n",
    "                \"name\": governor[\"name\"],\n",
    "            }\n",
    "            writer.writerow(row)"
   ]
  },
  {
   "cell_type": "markdown",
   "id": "0af51961",
   "metadata": {},
   "source": [
    "#### Fetch proposals and delegates addresses"
   ]
  },
  {
   "cell_type": "code",
   "execution_count": 10,
   "id": "6e54e409",
   "metadata": {},
   "outputs": [],
   "source": [
    "# Fetch Uniswap Proposals & save it as CSV file\n",
    "data = fetch_proposal_data(uni_governorbravo_contract_address)\n",
    "create_csv_from_proposal_response_data(data, \"data/Uniswap_GOVERNORBRAVO_proposals.csv\")"
   ]
  },
  {
   "cell_type": "code",
   "execution_count": 11,
   "id": "69ae1b9b",
   "metadata": {},
   "outputs": [],
   "source": [
    "# Fetch Uniswap Delegates Addresses & save it as CSV file\n",
    "data = fetch_delegates_addresses(uni_governorbravo_contract_address)\n",
    "create_csv_from_delegates_response_data(data, \"data/Uniswap_UNITOKEN_delegates.csv\")"
   ]
  },
  {
   "cell_type": "markdown",
   "id": "539a084e",
   "metadata": {},
   "source": [
    "#### Connect to mainnet using web3 and brownie"
   ]
  },
  {
   "cell_type": "code",
   "execution_count": 5,
   "id": "6f7d4483",
   "metadata": {},
   "outputs": [
    {
     "name": "stdout",
     "output_type": "stream",
     "text": [
      "Connected to: mainnet\n"
     ]
    }
   ],
   "source": [
    "# connect to mainnet\n",
    "if network.is_connected():\n",
    "    network.disconnect()\n",
    "network.connect(\"mainnet\")\n",
    "print(\"Connected to:\", network.show_active())"
   ]
  },
  {
   "cell_type": "code",
   "execution_count": 6,
   "id": "6aadcc90",
   "metadata": {},
   "outputs": [
    {
     "name": "stdout",
     "output_type": "stream",
     "text": [
      "Fetching source of 0x1f9840a85d5aF5bf1D1762F925BDADdC4201F984 from api.etherscan.io...\n"
     ]
    }
   ],
   "source": [
    "# Load the Uni Token contract!\n",
    "Uni = Contract.from_explorer(uni_token_contract_address)"
   ]
  },
  {
   "cell_type": "code",
   "execution_count": 7,
   "id": "16f8c2af",
   "metadata": {},
   "outputs": [],
   "source": [
    "# Load the UNI Token Contract as web3 contract object.\n",
    "WUni = web3.eth.contract(Uni.address, abi=Uni.abi)"
   ]
  },
  {
   "cell_type": "code",
   "execution_count": 8,
   "id": "bbbfff9e",
   "metadata": {},
   "outputs": [],
   "source": [
    "# Read the CSV file of Uniswap Token delegatees\n",
    "df_delegates_raw = pd.read_csv(\"./data/Uniswap_UNITOKEN_delegates.csv\")"
   ]
  },
  {
   "cell_type": "code",
   "execution_count": 9,
   "id": "6f614ee8",
   "metadata": {},
   "outputs": [
    {
     "name": "stdout",
     "output_type": "stream",
     "text": [
      "Number of delegatees:  29316\n"
     ]
    }
   ],
   "source": [
    "print(\"Number of delegatees: \",len(df_delegates_raw))"
   ]
  },
  {
   "cell_type": "markdown",
   "id": "0dc6da34",
   "metadata": {},
   "source": [
    "#### Fetch voting power and token balance for delegates addresses"
   ]
  },
  {
   "cell_type": "code",
   "execution_count": null,
   "id": "9f208353",
   "metadata": {},
   "outputs": [],
   "source": [
    "# Iterate over the delegatees addresses and fetch current delegated voting power, token balance\n",
    "\n",
    "# Initialize an empty list to store the data\n",
    "data_delegates = []\n",
    "\n",
    "# Initialize a counter\n",
    "counter = 1\n",
    "\n",
    "for address in df_delegates_raw['address']:\n",
    "    voting_power = Uni.getCurrentVotes(address)\n",
    "    tokens_owned = Uni.balanceOf(address)\n",
    "    data_delegates.append([address, voting_power, tokens_owned])\n",
    "    print(\"Address\", address)\n",
    "\n",
    "    counter += 1\n",
    "\n",
    "    # If the counter is a multiple of 100, save a new CSV file\n",
    "    if counter % 100 == 0:\n",
    "        # Create a new DataFrame with the fetched data\n",
    "        df_delegates_chunk = pd.DataFrame(data_delegates, columns=['address', 'votingPower', 'tokensOwned'])\n",
    "        df_delegates_chunk.to_csv(f'data/delegatees_balance/delegates_{counter}.csv', index=False)\n",
    "        \n",
    "        # Clear the list for the next chunk\n",
    "        data_delegates.clear()\n",
    "\n",
    "        print(f\"Saved {counter} addresses to CSV.\")\n",
    "\n",
    "# Save remaining data (if any) to a new CSV file\n",
    "if data_delegates:\n",
    "    df_delegates_chunk = pd.DataFrame(data_delegates, columns=['address', 'votingPower', 'tokensOwned'])\n",
    "    df_delegates_chunk.to_csv(f'data/delegatees_balance/delegates_{counter}.csv', index=False)"
   ]
  },
  {
   "cell_type": "code",
   "execution_count": 11,
   "id": "828706a3",
   "metadata": {},
   "outputs": [],
   "source": [
    "# create one CSV file for all the chunks\n",
    "\n",
    "# Create an empty list to store the DataFrames\n",
    "dfs = []\n",
    "\n",
    "# Specify the directory where the CSV files are\n",
    "directory = 'data/delegatees_balance/'\n",
    "\n",
    "# Iterate over the CSV files in the directory\n",
    "for filename in os.listdir(directory):\n",
    "    if filename.endswith('.csv'):\n",
    "        # Load the CSV file into a DataFrame\n",
    "        df = pd.read_csv(os.path.join(directory, filename))\n",
    "\n",
    "        # Add the DataFrame to the list\n",
    "        dfs.append(df)\n",
    "\n",
    "# Concatenate all the DataFrames in the list into one DataFrame\n",
    "df_combined = pd.concat(dfs, ignore_index=True)\n",
    "\n",
    "# Save the combined DataFrame to a new CSV file\n",
    "df_combined.to_csv('data/Uniswap_UNITOKEN_delegates_balance.csv', index=False)"
   ]
  },
  {
   "cell_type": "markdown",
   "id": "5cd46c45",
   "metadata": {},
   "source": [
    "#### Fetch event data for top delegates addresses (according to voting power)"
   ]
  },
  {
   "cell_type": "code",
   "execution_count": 9,
   "id": "c2d21b8f",
   "metadata": {},
   "outputs": [],
   "source": [
    "# Load the CSV file into a DataFrame\n",
    "df_raw = pd.read_csv('data/Uniswap_UNITOKEN_delegates_balance.csv')\n",
    "\n",
    "# Create a temporary column 'votingPower_float' with 'votingPower' converted to float\n",
    "df_raw['votingPower_float'] = df_raw['votingPower'].astype(float)\n",
    "\n",
    "# Filter the delegates with more than 1 million voting power\n",
    "top_delegates = df_raw[df_raw['votingPower_float'] > 1e6 * 1e18].copy()  # > 1 Mil\n",
    "\n",
    "# Filter the delegates with more than 1 million voting power\n",
    "up_delegates = df_raw[df_raw['votingPower_float'] > 5e6 * 1e18].copy()  # > 5 Mil\n",
    "\n",
    "# Filter for 2.5 million to 5 million voting power\n",
    "middle_delegates = df_raw[(df_raw['votingPower_float'] > 2.5e6 * 1e18) & (df_raw['votingPower_float'] <= 5e6 * 1e18)].copy()  # 2.5 Mil - 5 Mil\n",
    "\n",
    "# Filter for 1 million to 2.5 million voting power\n",
    "low_delegates = df_raw[(df_raw['votingPower_float'] > 1e6 * 1e18) & (df_raw['votingPower_float'] <= 2.5e6 * 1e18)].copy()  # 1 Mil - 2.5 Mil\n",
    "\n",
    "# Drop the temporary column from the original and the new DataFrame\n",
    "df_raw.drop('votingPower_float', axis=1, inplace=True)\n",
    "top_delegates.drop('votingPower_float', axis=1, inplace=True)\n",
    "up_delegates.drop('votingPower_float', axis=1, inplace=True)\n",
    "middle_delegates.drop('votingPower_float', axis=1, inplace=True)\n",
    "low_delegates.drop('votingPower_float', axis=1, inplace=True)"
   ]
  },
  {
   "cell_type": "code",
   "execution_count": 10,
   "id": "4de607d0",
   "metadata": {},
   "outputs": [
    {
     "name": "stdout",
     "output_type": "stream",
     "text": [
      "Number of addresses that have more than 1 million delegated voting power:  44\n"
     ]
    }
   ],
   "source": [
    "print(\"Number of addresses that have more than 1 million delegated voting power: \", len(top_delegates))"
   ]
  },
  {
   "cell_type": "code",
   "execution_count": null,
   "id": "98eb0705",
   "metadata": {},
   "outputs": [],
   "source": [
    "# get events for top_delegates \n",
    "# Iterate over top_delegates addresses and fetch events for every checkpoint, to examine delegation behaviour later on\n",
    "\n",
    "# DVC: DelegateVotesChanged Event - previousBalance, newBalance, amount\n",
    "# DC: DelegateChanged Event - delegator, fromDelegate, toDelegate\n",
    "# T: Transfer Event - transferFrom, transferTo\n",
    "\n",
    "# Initialize an empty list to store the data\n",
    "data_delegates = []\n",
    "\n",
    "counter = 0\n",
    "\n",
    "for index, row in top_delegates.iterrows():\n",
    "    voting_power = row[\"votingPower\"]\n",
    "    tokens_owned = row[\"tokensOwned\"]\n",
    "    address = row[\"address\"]\n",
    "    num_checkpoints = Uni.numCheckpoints(address)\n",
    "    \n",
    "    for checkpoint_index in range(num_checkpoints):\n",
    "        checkpoint = Uni.checkpoints(address, checkpoint_index)\n",
    "        block_number = checkpoint['fromBlock']\n",
    "        \n",
    "        # Initialize default values\n",
    "        delegator = fromDelegate = toDelegate = previousBalance = newBalance = transfer_from = transfer_to = None\n",
    "        \n",
    "        # Create a filter for DelegateChanged events in the block\n",
    "        filter_DelegateChanged = Uni.events.DelegateChanged.createFilter(fromBlock=block_number, toBlock=block_number)\n",
    "        logs_DelegateChanged = filter_DelegateChanged.get_all_entries()\n",
    "        logs_DelegateChanged = [log for log in logs_DelegateChanged if log.args.fromDelegate == address or log.args.toDelegate == address]\n",
    "\n",
    "        # DelegateChanged Event could be empty, because DelegateVotesChanged Event is emited trough transfer and mint functions.\n",
    "        if logs_DelegateChanged:  # If there are any DelegateChanged events for the address in the block\n",
    "            last_log = logs_DelegateChanged[-1]  # Take the last event in the block\n",
    "            from_delegate = last_log.args.fromDelegate\n",
    "            to_delegate = last_log.args.toDelegate\n",
    "            delegator = last_log.args.delegator\n",
    "        else:\n",
    "            from_delegate = None\n",
    "            to_delegate = None\n",
    "            delegator = None\n",
    "\n",
    "        # Create a filter for DelegateVotesChanged events for the address in the block (also called trough mint and transfer functions)\n",
    "        filter_DelegateVotesChanged = Uni.events.DelegateVotesChanged.createFilter(fromBlock=block_number, toBlock=block_number, argument_filters={'delegate': address})\n",
    "        logs_DelegateVotesChanged = filter_DelegateVotesChanged.get_all_entries()\n",
    "\n",
    "        if logs_DelegateVotesChanged:  # If there are any DelegateVotesChanged events for the address in the block\n",
    "            last_log = logs_DelegateVotesChanged[-1]  # Take the last event in the block\n",
    "            previous_balance = last_log[\"args\"][\"previousBalance\"]\n",
    "            new_balance = last_log[\"args\"][\"newBalance\"]\n",
    "            difference = new_balance - previous_balance\n",
    "        else:\n",
    "            previous_balance = None\n",
    "            new_balance = None\n",
    "            difference = None\n",
    "            \n",
    "        # Create a filter for Transfer events in the block\n",
    "        filter_Transfer = Uni.events.Transfer.createFilter(fromBlock=block_number, toBlock=block_number)\n",
    "        logs_Transfer = filter_Transfer.get_all_entries()\n",
    "        logs_Transfer = [log for log in logs_Transfer if log.args.amount == abs(difference)]\n",
    "\n",
    "        # Transfer Event could be empty\n",
    "        if logs_Transfer:\n",
    "            last_log = logs_Transfer[-1]  # Take the last event in the block\n",
    "            transfer_from = last_log[\"args\"][\"from\"]\n",
    "            transfer_to = last_log[\"args\"][\"to\"]\n",
    "        else:\n",
    "            transfer_from = None\n",
    "            transfer_to = None\n",
    "            \n",
    "        data_delegates.append([address, voting_power, tokens_owned, block_number, previous_balance, new_balance, difference, delegator, from_delegate, to_delegate, transfer_from, transfer_to])\n",
    "        \n",
    "    counter += 1  # Increment the counter\n",
    "\n",
    "\n",
    "    # Save the DataFrame to a new CSV file every iteration\n",
    "    df_delegates_chunk = pd.DataFrame(data_delegates, columns=['address', 'votingPower', 'tokensOwned', 'blockNumber', 'previousBalance', 'newBalance', 'difference', 'delegator', 'fromDelegate', 'toDelegate', 'transferFrom', 'transferTo'])\n",
    "    df_delegates_chunk.to_csv(f'data/delegatees_events/Uniswap_UNITOKEN_delegate_events_{counter}.csv', index=False)\n",
    "\n",
    "    # Clear the list for the next chunk\n",
    "    data_delegates.clear()"
   ]
  },
  {
   "cell_type": "code",
   "execution_count": 364,
   "id": "54d8b066",
   "metadata": {},
   "outputs": [],
   "source": [
    "# create one CSV file for all the chunks\n",
    "\n",
    "# Create an empty list to store the DataFrames\n",
    "dfs = []\n",
    "\n",
    "# Specify the directory where the CSV files are\n",
    "directory = 'data/delegatees_events/'\n",
    "\n",
    "# Iterate over the CSV files in the directory\n",
    "for filename in os.listdir(directory):\n",
    "    if filename.endswith('.csv'):\n",
    "        # Load the CSV file into a DataFrame\n",
    "        df = pd.read_csv(os.path.join(directory, filename))\n",
    "\n",
    "        # Add the DataFrame to the list\n",
    "        dfs.append(df)\n",
    "\n",
    "# Concatenate all the DataFrames in the list into one DataFrame\n",
    "df_combined = pd.concat(dfs, ignore_index=True)\n",
    "\n",
    "# Save the combined DataFrame to a new CSV file\n",
    "df_combined.to_csv('data/Uniswap_UNITOKEN_delegates_events.csv', index=False)"
   ]
  },
  {
   "cell_type": "code",
   "execution_count": 276,
   "id": "566d6227",
   "metadata": {},
   "outputs": [],
   "source": [
    "# html string from tally.xyz - manually: to get easy and cleaned data for top delegates delegated voting power\n",
    "html_string = \"\"\"html code of table body\"\"\"\n",
    "address = \"0xbbf3f1421d886e9b2c5d716b5192ac998af2012c\"\n",
    "counter = 14"
   ]
  },
  {
   "cell_type": "code",
   "execution_count": 277,
   "id": "176a00f6",
   "metadata": {},
   "outputs": [],
   "source": [
    "# Parse the HTML string with BeautifulSoup\n",
    "soup = BeautifulSoup(html_string, 'html.parser')\n",
    "\n",
    "# Find all table rows\n",
    "table_rows = soup.find_all('tr', class_='css-5dt5vx')\n",
    "\n",
    "data = []\n",
    "\n",
    "# Iterate over each table row\n",
    "for row in table_rows:\n",
    "    # Find the delegate address, date, and delegated voting power within this row\n",
    "    delegator = row.find('p', class_='chakra-text clamp-text-1 css-hf49an').text\n",
    "    date = row.find_all('td')[2].text\n",
    "    voting_power = float(row.find('td', {'data-is-numeric': 'true'}).text.replace(',', ''))\n",
    "    \n",
    "    # Append this row's data to the data list\n",
    "    data.append({\n",
    "        'address': address,\n",
    "        'delegator': delegator,\n",
    "        'date': date,\n",
    "        'voting_power': voting_power\n",
    "    })\n",
    "\n",
    "# Now the `data` list contains dictionaries with the delegate address, date, and delegated voting power for each row\n",
    "\n",
    "# Convert the data to a pandas DataFrame\n",
    "df = pd.DataFrame(data)\n",
    "\n",
    "# Convert the 'date' column to datetime\n",
    "df['date'] = pd.to_datetime(df['date'])\n",
    "\n",
    "# Save the DataFrame to a csv file\n",
    "df.to_csv(f'data/delegatees_tally/Uniswap_UNITOKEN_delegate_tally_{counter}.csv', index=False)"
   ]
  },
  {
   "cell_type": "code",
   "execution_count": 363,
   "id": "a36e9440",
   "metadata": {},
   "outputs": [],
   "source": [
    "# create one CSV file for all the chunks\n",
    "\n",
    "# Create an empty list to store the DataFrames\n",
    "dfs = []\n",
    "\n",
    "# Specify the directory where the CSV files are\n",
    "directory = 'data/delegatees_tally/'\n",
    "\n",
    "# Iterate over the CSV files in the directory\n",
    "for filename in os.listdir(directory):\n",
    "    if filename.endswith('.csv'):\n",
    "        # Load the CSV file into a DataFrame\n",
    "        df = pd.read_csv(os.path.join(directory, filename))\n",
    "\n",
    "        # Add the DataFrame to the list\n",
    "        dfs.append(df)\n",
    "\n",
    "# Concatenate all the DataFrames in the list into one DataFrame\n",
    "df_combined = pd.concat(dfs, ignore_index=True)\n",
    "\n",
    "# Save the combined DataFrame to a new CSV file\n",
    "df_combined.to_csv('data/Uniswap_UNITOKEN_delegates_tally.csv', index=False)"
   ]
  },
  {
   "cell_type": "markdown",
   "id": "ff62de81",
   "metadata": {},
   "source": [
    "## Whale Analysis\n",
    "Metaverse governance: An empirical analysis of voting within Decentralized Autonomous Organizations, Goldberg and Schär, 2023"
   ]
  },
  {
   "cell_type": "code",
   "execution_count": 12,
   "id": "c4ef4560",
   "metadata": {},
   "outputs": [],
   "source": [
    "# Read the CSV file of Uniswap Governor Bravo Proposals\n",
    "df_raw = pd.read_csv(\"./data/Uniswap_GOVERNORBRAVO_proposals.csv\")\n",
    "\n",
    "# Convert the 'votesWeight' column to Decimal\n",
    "df_raw['votesWeight'] = df_raw['votesWeight'].apply(Decimal)\n",
    "\n",
    "# Convert the 'votesWeight' column to a human-readable format (base unit)\n",
    "df_raw['votesWeight'] = df_raw['votesWeight'].apply(lambda x: x / (10 ** 18))\n",
    "\n",
    "# Filter out rows with votesWeight equal to zero\n",
    "df_filtered = df_raw[df_raw['votesWeight'] > 0]\n",
    "\n",
    "# Create a new DataFrame from the filtered data\n",
    "df = df_filtered.copy()"
   ]
  },
  {
   "cell_type": "code",
   "execution_count": 13,
   "id": "4f7ddfc7",
   "metadata": {},
   "outputs": [
    {
     "data": {
      "image/png": "[encoded data removed]",
      "text/plain": [
       "<Figure size 432x288 with 1 Axes>"
      ]
     },
     "metadata": {
      "needs_background": "light"
     },
     "output_type": "display_data"
    }
   ],
   "source": [
    "quorum = 40000000\n",
    "\n",
    "# Calculate the sum of vote weights for each proposal\n",
    "vote_weights_sum = df.groupby('proposalId')['votesWeight'].sum() # 23 proposals, three proposals didn't reach quorum\n",
    "\n",
    "# Extract the most influential voter's vote weight for each proposal\n",
    "most_influential_voters_weight = df.groupby('proposalId')['votesWeight'].max()\n",
    "\n",
    "# Create a boolean Series indicating if the proposal reached the quorum\n",
    "reached_quorum = vote_weights_sum >= quorum\n",
    "\n",
    "# Filter the vote_weights_sum and most_influential_voters_weight Series based on the reached_quorum Series\n",
    "filtered_vote_weights_sum = vote_weights_sum[reached_quorum]\n",
    "filtered_most_influential_voters_weight = most_influential_voters_weight[reached_quorum]\n",
    "\n",
    "# Calculate the voting power share of the most influential voter for the filtered data\n",
    "filtered_most_influential_voters_share = filtered_most_influential_voters_weight / filtered_vote_weights_sum\n",
    "\n",
    "# Round the values to 6 decimal places and convert them to float for plotting\n",
    "filtered_most_influential_voters_share = filtered_most_influential_voters_share.apply(lambda x: round(float(x), 6))\n",
    "\n",
    "# Create a figure and axis\n",
    "fig, ax = plt.subplots()\n",
    "\n",
    "# Add a small amount of random jitter to the x-axis position of the dots\n",
    "jitter = np.random.uniform(-0.01, 0.01, size=len(filtered_most_influential_voters_share))\n",
    "\n",
    "# Calculate the box plot statistics\n",
    "bp_stats = plt.boxplot(filtered_most_influential_voters_share, vert=True, positions=[1], widths=0.1, medianprops={'color': 'black'}, flierprops={'alpha': 0})\n",
    "\n",
    "# Get the outlier indices\n",
    "outlier_indices = bp_stats['fliers'][0].get_data()[1]\n",
    "\n",
    "# Identify the dots that are considered outliers\n",
    "outliers = filtered_most_influential_voters_share.isin(outlier_indices)\n",
    "\n",
    "# Plot the dots inside the box plot\n",
    "ax.plot(np.array([1] * len(filtered_most_influential_voters_share[~outliers])) + jitter[~outliers],\n",
    "        filtered_most_influential_voters_share[~outliers], 'o', markersize=5, markerfacecolor='none', markeredgecolor='#117B78', markeredgewidth=1, alpha=0.5)\n",
    "\n",
    "# Plot the outlier dots with a different color\n",
    "ax.plot(np.array([1] * len(filtered_most_influential_voters_share[outliers])) + jitter[outliers],\n",
    "        filtered_most_influential_voters_share[outliers], 'o', markersize=5, markerfacecolor='none', markeredgecolor='#117B78', markeredgewidth=1, alpha=0.5)\n",
    "\n",
    "# Set the labels and limits\n",
    "ax.set_ylabel('Distribution')\n",
    "ax.set_xticks([])\n",
    "ax.set_xlim(0.8, 1.2)  # Adjust the x-axis limits\n",
    "ax.set_ylim(0, 0.5)  # Adjust the y-axis limits\n",
    "\n",
    "# Remove the upper and right lines of the graph\n",
    "ax.spines['top'].set_visible(False)\n",
    "ax.spines['right'].set_visible(False)\n",
    "\n",
    "# Save the plot as PDF\n",
    "plt.savefig('data/whale_analysis.pdf', bbox_inches='tight')\n",
    "\n",
    "# Show the plot\n",
    "plt.show()"
   ]
  },
  {
   "cell_type": "markdown",
   "id": "38ce3c01",
   "metadata": {},
   "source": [
    "## Delegated Voting Power Distribution\n",
    "Analyzing Voting Power in Decentralized Governance: Who controls DAOs?, Fritsch et al., 2022"
   ]
  },
  {
   "cell_type": "code",
   "execution_count": 14,
   "id": "a2df5b0e",
   "metadata": {},
   "outputs": [],
   "source": [
    "# Load the CSV file into a DataFrame\n",
    "df_raw = pd.read_csv('data/Uniswap_UNITOKEN_delegates_balance.csv')\n",
    "\n",
    "# Convert 'votingPower' to Decimal\n",
    "df_raw['votingPower'] = df_raw['votingPower'].apply(Decimal)\n",
    "\n",
    "# Convert 'votingPower' to a human-readable format (base unit)\n",
    "df_raw['votingPower'] = df_raw['votingPower'].apply(lambda x: x / Decimal(10 ** 18))\n",
    "\n",
    "# Create a new DataFrame from the filtered data\n",
    "df = df_raw.copy()"
   ]
  },
  {
   "cell_type": "code",
   "execution_count": 15,
   "id": "ccdca387",
   "metadata": {},
   "outputs": [
    {
     "data": {
      "image/png": "[encoded data removed]",
      "text/plain": [
       "<Figure size 720x72 with 1 Axes>"
      ]
     },
     "metadata": {
      "needs_background": "light"
     },
     "output_type": "display_data"
    }
   ],
   "source": [
    "# Calculate the relative voting power for each address\n",
    "relative_voting_power = df['votingPower'] / df['votingPower'].sum()\n",
    "\n",
    "# Calculate the cumulative sum of the relative voting power\n",
    "cumulative_relative_voting_power = np.insert(relative_voting_power.cumsum().values, 0, 0)[:-1]\n",
    "\n",
    "# Convert these arrays to float type\n",
    "cumulative_relative_voting_power_float = cumulative_relative_voting_power.astype(float)\n",
    "relative_voting_power_float = relative_voting_power.values.astype(float)\n",
    "\n",
    "# Define the colors for the bars\n",
    "colors = ['gray'] * len(relative_voting_power)\n",
    "\n",
    "# Plot the horizontal stacked bar chart\n",
    "fig, ax = plt.subplots(figsize=(10, 1))\n",
    "ax.bar(x=cumulative_relative_voting_power_float,\n",
    "       width=relative_voting_power_float,\n",
    "       bottom=0,\n",
    "       height=0.5,\n",
    "       color=colors,\n",
    "       edgecolor='black',\n",
    "       linewidth=1,\n",
    "       align='edge')\n",
    "\n",
    "# Set the labels and title\n",
    "ax.set_xlabel('Cumulative Relative Voting Power')\n",
    "\n",
    "# Remove y-axis ticks and labels\n",
    "ax.set_yticks([])\n",
    "\n",
    "# Set the x-axis limits to 0-100%\n",
    "ax.set_xlim(0, 1)\n",
    "\n",
    "# Remove the upper and right lines of the graph\n",
    "ax.spines['top'].set_visible(False)\n",
    "ax.spines['right'].set_visible(False)\n",
    "\n",
    "# Add a red vertical line at 0.5\n",
    "ax.axvline(x=0.5, color='red', linestyle='--')\n",
    "\n",
    "# Save SVG\n",
    "plt.savefig('plots/vp_distribution.pdf', bbox_inches='tight')\n",
    "\n",
    "# Display the plot\n",
    "plt.show()"
   ]
  },
  {
   "cell_type": "code",
   "execution_count": 16,
   "id": "e9a7572d",
   "metadata": {},
   "outputs": [
    {
     "name": "stdout",
     "output_type": "stream",
     "text": [
      "Total delegated tokens 199605238.59409213\n",
      "14 Delegates could control the whole protocol, approx. 100758286.91484636\n",
      "5 Delegates could pass quorum, and control protocol if others are not aware, approx 48901631.67514434\n"
     ]
    }
   ],
   "source": [
    "# Convert 'votingPower' to float\n",
    "df['votingPower'] = df['votingPower'].astype(float)\n",
    "\n",
    "sum_protocol = df['votingPower'].sum()\n",
    "print(f\"Total delegated tokens {sum_protocol}\")\n",
    "\n",
    "# Calculate the number of delegates that could control the whole protocol\n",
    "sum_14_largest = df['votingPower'].nlargest(14).sum()\n",
    "print(f\"14 Delegates could control the whole protocol, approx. {sum_14_largest}\")\n",
    "\n",
    "# Calculate the number of delegates that could pass quorum\n",
    "sum_5_largest = df['votingPower'].nlargest(5).sum()\n",
    "print(f\"5 Delegates could pass quorum, and control protocol if others are not aware, approx {sum_5_largest}\")"
   ]
  },
  {
   "cell_type": "markdown",
   "id": "186ae7c5",
   "metadata": {},
   "source": [
    "## Delegated Voting Power Distribution (2)\n"
   ]
  },
  {
   "cell_type": "code",
   "execution_count": 17,
   "id": "735a1e87",
   "metadata": {},
   "outputs": [],
   "source": [
    "# Load the CSV file into a DataFrame\n",
    "df_raw = pd.read_csv('data/Uniswap_UNITOKEN_delegates_balance.csv')\n",
    "\n",
    "# Convert 'votingPower' to Decimal\n",
    "df_raw['votingPower'] = df_raw['votingPower'].apply(Decimal)\n",
    "\n",
    "# Convert 'votingPower' to a human-readable format (base unit)\n",
    "df_raw['votingPower'] = df_raw['votingPower'].apply(lambda x: x / Decimal(10 ** 18))\n",
    "\n",
    "# Create a new DataFrame from the filtered data\n",
    "df = df_raw.copy()\n",
    "\n",
    "quorum = 40000000000000000000000000  # quorum value\n",
    "quorum_base_unit = quorum / (10 ** 18)  # convert quorum to base unit\n",
    "log_quorum = np.log10(float(quorum_base_unit))"
   ]
  },
  {
   "cell_type": "code",
   "execution_count": 18,
   "id": "38d3f09d",
   "metadata": {},
   "outputs": [
    {
     "data": {
      "image/png": "[encoded data removed]",
      "text/plain": [
       "<Figure size 432x288 with 1 Axes>"
      ]
     },
     "metadata": {
      "needs_background": "light"
     },
     "output_type": "display_data"
    }
   ],
   "source": [
    "# Apply logarithmic transformation to the voting power values\n",
    "log_voting_power = np.log10(df['votingPower'])\n",
    "\n",
    "# Create a histogram to visualize the distribution of the log-transformed median voting weights\n",
    "fig, ax = plt.subplots()\n",
    "plt.hist(log_voting_power, bins=50, color='gray', edgecolor='black', alpha=0.8)\n",
    "\n",
    "# Insert a vertical line at the quorum\n",
    "plt.axvline(log_quorum, color='#117B78', linestyle='--', label='Quorum')\n",
    "plt.legend(loc='upper center')\n",
    "\n",
    "# Set the labels and limits\n",
    "ax.set_xlabel('Log10(Delegated Voting Power)')\n",
    "ax.set_ylabel('Frequency')\n",
    "\n",
    "# Remove the upper and right lines of the graph\n",
    "ax.spines['top'].set_visible(False)\n",
    "ax.spines['right'].set_visible(False)\n",
    "\n",
    "# Save the plot as PDF\n",
    "plt.savefig('plots/log_vp_distribution.pdf', bbox_inches='tight')\n",
    "\n",
    "# Show the plot\n",
    "plt.show()"
   ]
  },
  {
   "cell_type": "markdown",
   "id": "80600ca6",
   "metadata": {},
   "source": [
    "## Delegates Analysis"
   ]
  },
  {
   "cell_type": "markdown",
   "id": "d94eb5ac",
   "metadata": {},
   "source": [
    "#### Delegate Engagement: How active are delegates in voting?"
   ]
  },
  {
   "cell_type": "code",
   "execution_count": 19,
   "id": "880f7c8e",
   "metadata": {},
   "outputs": [],
   "source": [
    "# Participation rate of top addresses\n",
    "\n",
    "# Read the CSV file of Uniswap Governor Bravo Proposals\n",
    "df_raw = pd.read_csv(\"./data/Uniswap_GOVERNORBRAVO_proposals.csv\")\n",
    "\n",
    "# Convert the 'votesWeight' column to Decimal\n",
    "df_raw['votesWeight'] = df_raw['votesWeight'].apply(Decimal)\n",
    "\n",
    "# Convert the 'votesWeight' column to a human-readable format (base unit)\n",
    "df_raw['votesWeight'] = df_raw['votesWeight'].apply(lambda x: x / (10 ** 18))\n",
    "\n",
    "# Filter out rows with votesWeight equal to zero\n",
    "df_filtered = df_raw[df_raw['votesWeight'] > 0]\n",
    "\n",
    "# Create a new DataFrame from the filtered data\n",
    "df = df_filtered.copy()"
   ]
  },
  {
   "cell_type": "code",
   "execution_count": 20,
   "id": "bf0f038d",
   "metadata": {},
   "outputs": [],
   "source": [
    "quorum = 40000000\n",
    "\n",
    "# Calculate the sum of vote weights for each proposal\n",
    "vote_weights_sum = df.groupby('proposalId')['votesWeight'].sum() # 23 proposals, three proposals didn't reach quorum\n",
    "\n",
    "# Create a boolean Series indicating if the proposal reached the quorum\n",
    "reached_quorum = vote_weights_sum >= quorum\n",
    "\n",
    "# Filter the vote_weights_sum\n",
    "filtered_vote_weights_sum = vote_weights_sum[reached_quorum]\n",
    "\n",
    "# Convert filtered_vote_weights_sum index to a list\n",
    "filtered_proposal_ids = filtered_vote_weights_sum.index.tolist()\n",
    "\n",
    "# Filter df to contain only the proposals in filtered_proposal_ids\n",
    "df_filtered = df[df['proposalId'].isin(filtered_proposal_ids)]\n",
    "\n",
    "# Function to extract voter address from votesId\n",
    "def extract_voter_address(votesId):\n",
    "    return votesId.split('|')[1].split(':')[-1]\n",
    "\n",
    "df_filtered = df_filtered.copy()\n",
    "\n",
    "# Create a new column 'voter_address' by applying the function to the 'votesId' column\n",
    "df_filtered.loc[:, 'voter_address'] = df['votesId'].apply(extract_voter_address)"
   ]
  },
  {
   "cell_type": "code",
   "execution_count": 21,
   "id": "a037ae27",
   "metadata": {},
   "outputs": [
    {
     "name": "stdout",
     "output_type": "stream",
     "text": [
      "Mean all top delegates:  0.24181818181818174\n",
      "Mean up top delegates:  0.28\n",
      "Mean middle top delegates:  0.3400000000000001\n",
      "Mean low top delegates:  0.08285714285714287\n",
      "44\n"
     ]
    }
   ],
   "source": [
    "top_delegates_participation = {}\n",
    "up_delegates_participation = {}\n",
    "middle_delegates_participation = {}\n",
    "low_delegates_participation = {}\n",
    "\n",
    "for address in top_delegates['address']:\n",
    "    votes = df_filtered[df_filtered['voter_address'] == address]['proposalId'].nunique()\n",
    "    top_delegates_participation[address] = votes\n",
    "    \n",
    "for address in up_delegates['address']:\n",
    "    votes = df_filtered[df_filtered['voter_address'] == address]['proposalId'].nunique()\n",
    "    up_delegates_participation[address] = votes\n",
    "    \n",
    "for address in middle_delegates['address']:\n",
    "    votes = df_filtered[df_filtered['voter_address'] == address]['proposalId'].nunique()\n",
    "    middle_delegates_participation[address] = votes\n",
    "    \n",
    "for address in low_delegates['address']:\n",
    "    votes = df_filtered[df_filtered['voter_address'] == address]['proposalId'].nunique()\n",
    "    low_delegates_participation[address] = votes\n",
    "    \n",
    "\n",
    "# Convert the dictionary to DataFrame\n",
    "top_delegates_participation_df = pd.DataFrame.from_dict(top_delegates_participation, orient='index', columns=['Number_of_votes'])\n",
    "top_up_participation_df = pd.DataFrame.from_dict(up_delegates_participation, orient='index', columns=['Number_of_votes'])\n",
    "top_middle_participation_df = pd.DataFrame.from_dict(middle_delegates_participation, orient='index', columns=['Number_of_votes'])\n",
    "top_low_participation_df = pd.DataFrame.from_dict(low_delegates_participation, orient='index', columns=['Number_of_votes'])\n",
    "\n",
    "\n",
    "# Calculate total number of proposals\n",
    "total_proposals = df['proposalId'].nunique()\n",
    "\n",
    "# Calculate the participation rate and add it as a new column\n",
    "top_delegates_participation_df['participation_rate'] = top_delegates_participation_df['Number_of_votes'] / total_proposals\n",
    "top_up_participation_df['participation_rate'] = top_up_participation_df['Number_of_votes'] / total_proposals\n",
    "top_middle_participation_df['participation_rate'] = top_middle_participation_df['Number_of_votes'] / total_proposals\n",
    "top_low_participation_df['participation_rate'] = top_low_participation_df['Number_of_votes'] / total_proposals\n",
    "\n",
    "\n",
    "mean_participation_rate = top_delegates_participation_df['participation_rate'].mean()\n",
    "mean_up_participation_rate = top_up_participation_df['participation_rate'].mean()\n",
    "mean_middle_participation_rate = top_middle_participation_df['participation_rate'].mean()\n",
    "mean_low_participation_rate = top_low_participation_df['participation_rate'].mean()\n",
    "\n",
    "\n",
    "print(\"Mean all top delegates: \", mean_participation_rate)\n",
    "print(\"Mean up top delegates: \", mean_up_participation_rate)\n",
    "print(\"Mean middle top delegates: \", mean_middle_participation_rate)\n",
    "print(\"Mean low top delegates: \", mean_low_participation_rate)\n",
    "print(len(top_delegates))"
   ]
  },
  {
   "cell_type": "code",
   "execution_count": 22,
   "id": "311d8139",
   "metadata": {},
   "outputs": [
    {
     "data": {
      "image/png": "[encoded data removed]",
      "text/plain": [
       "<Figure size 720x864 with 1 Axes>"
      ]
     },
     "metadata": {
      "needs_background": "light"
     },
     "output_type": "display_data"
    }
   ],
   "source": [
    "formatted_addresses = [address[:6] + '...' + address[-4:] for address in top_delegates_participation_df.index]\n",
    "\n",
    "plt.figure(figsize=(10, 12))  # Increase the figure size for better visibility\n",
    "plt.barh(formatted_addresses, top_delegates_participation_df['participation_rate'], color='gray', edgecolor='black', alpha=0.8)\n",
    "\n",
    "plt.xlabel('Participation Rate')\n",
    "plt.ylabel('Delegate Address')\n",
    "# plt.title('Participation Rate of Top Delegates')\n",
    "\n",
    "plt.gca().spines['top'].set_visible(False)\n",
    "plt.gca().spines['right'].set_visible(False)\n",
    "\n",
    "# Increase y-axis spacing\n",
    "plt.yticks(fontsize=8)\n",
    "\n",
    "# Invert y-axis\n",
    "plt.gca().invert_yaxis()\n",
    "\n",
    "plt.show()"
   ]
  },
  {
   "cell_type": "code",
   "execution_count": 26,
   "id": "9822a009",
   "metadata": {},
   "outputs": [
    {
     "data": {
      "image/png": "[encoded data removed]",
      "text/plain": [
       "<Figure size 1440x720 with 3 Axes>"
      ]
     },
     "metadata": {
      "needs_background": "light"
     },
     "output_type": "display_data"
    }
   ],
   "source": [
    "# Define a function to make the subplot\n",
    "def make_subplot(ax, df, title):\n",
    "    formatted_addresses = [address[:6] + '...' + address[-4:] for address in df.index]\n",
    "    ax.barh(formatted_addresses, df['participation_rate'], color='gray', edgecolor='black', alpha=0.8, height=0.5)\n",
    "\n",
    "    ax.set_xlabel('Participation Rate')\n",
    "    ax.set_ylabel('Delegatee Address')\n",
    "    ax.set_title(title)\n",
    "\n",
    "    ax.spines['top'].set_visible(False)\n",
    "    ax.spines['right'].set_visible(False)\n",
    "    \n",
    "    ax.set_xlim([0, 1])  # Set the limits of the x-axis to [0, 1]\n",
    "\n",
    "    # Increase y-axis spacing\n",
    "    ax.tick_params(axis='y', labelsize=8)\n",
    "\n",
    "    # Invert y-axis\n",
    "    ax.invert_yaxis()\n",
    "\n",
    "# Create figure and axes\n",
    "fig, ax = plt.subplots(nrows=2, ncols=2, figsize=(20, 10))\n",
    "\n",
    "# Make plots\n",
    "make_subplot(ax[0][0], top_up_participation_df, 'Delegatees with Voting Power > 5M')\n",
    "make_subplot(ax[0][1], top_middle_participation_df, 'Delegatees with Voting Power 2.5M - 5M')\n",
    "make_subplot(ax[1][0], top_low_participation_df, 'Delegatees with Voting Power 1M - 2.5M')\n",
    "\n",
    "# Remove the last subplot\n",
    "ax[1][1].remove()\n",
    "\n",
    "# Improve layout\n",
    "plt.savefig('plots/participation_rates.pdf', bbox_inches='tight')\n",
    "plt.show()"
   ]
  },
  {
   "cell_type": "code",
   "execution_count": 25,
   "id": "7f8e4881",
   "metadata": {},
   "outputs": [
    {
     "data": {
      "image/png": "[encoded data removed]",
      "text/plain": [
       "<Figure size 720x360 with 1 Axes>"
      ]
     },
     "metadata": {
      "needs_background": "light"
     },
     "output_type": "display_data"
    },
    {
     "data": {
      "image/png": "[encoded data removed]",
      "text/plain": [
       "<Figure size 720x360 with 1 Axes>"
      ]
     },
     "metadata": {
      "needs_background": "light"
     },
     "output_type": "display_data"
    },
    {
     "data": {
      "image/png": "[encoded data removed]",
      "text/plain": [
       "<Figure size 720x360 with 1 Axes>"
      ]
     },
     "metadata": {
      "needs_background": "light"
     },
     "output_type": "display_data"
    }
   ],
   "source": [
    "# Create figure and axes for the first plot\n",
    "fig1, ax1 = plt.subplots(figsize=(10, 5))\n",
    "make_subplot(ax1, top_up_participation_df, 'Delegatees with Voting Power > 5M')\n",
    "plt.savefig('plots/top_up_participation_rate.pdf', bbox_inches='tight')\n",
    "plt.show()\n",
    "\n",
    "# Create figure and axes for the second plot\n",
    "fig2, ax2 = plt.subplots(figsize=(10, 5))\n",
    "make_subplot(ax2, top_middle_participation_df, 'Delegatees with Voting Power  2.5M - 5M')\n",
    "plt.savefig('plots/top_middle_participation_rate.pdf', bbox_inches='tight')\n",
    "plt.show()\n",
    "\n",
    "# Create figure and axes for the third plot\n",
    "fig3, ax3 = plt.subplots(figsize=(10, 5))\n",
    "make_subplot(ax3, top_low_participation_df, 'Delegatees with Voting Power 1M - 2.5M')\n",
    "plt.savefig('plots/top_low_participation_rate.pdf', bbox_inches='tight')\n",
    "plt.show()"
   ]
  },
  {
   "cell_type": "markdown",
   "id": "4a1abcb7",
   "metadata": {},
   "source": [
    "## Delegation Behaviour"
   ]
  },
  {
   "cell_type": "code",
   "execution_count": null,
   "id": "65d6abad",
   "metadata": {},
   "outputs": [],
   "source": [
    "# Are token holders frequently changing their delegated voting representatives? Does it matter?\n",
    "# Look how many people delegated how much - would be intersting to know if there is a \"whale\" in the delegation process"
   ]
  },
  {
   "cell_type": "code",
   "execution_count": 5,
   "id": "cee1e17e",
   "metadata": {},
   "outputs": [],
   "source": [
    "#### Delegation Behaviour: How is the delegated voting changing over time considering the proposals"
   ]
  },
  {
   "cell_type": "code",
   "execution_count": 28,
   "id": "d1a90422",
   "metadata": {},
   "outputs": [],
   "source": [
    "# Load the CSV file into a DataFrame\n",
    "df_raw = pd.read_csv('data/delegatees_events/Uniswap_UNITOKEN_delegate_events_1.csv')\n",
    "address_of_interest = '0x2B1Ad6184a6B0fac06bD225ed37C2AbC04415fF4' # do it for the 8 delegatees (> 5 Mil + Participation Rate > 0)\n",
    "\"\"\"\n",
    "0x2B1Ad6184a6B0fac06bD225ed37C2AbC04415fF4 0x2B1A...5fF4 1\n",
    "0xe7925D190aea9279400cD9a005E33CEB9389Cc2b 0xe792...Cc2b 4\n",
    "0xA2BF1B0a7E079767B4701b5a1D9D5700eB42D1d1 0xA2BF...D1d1 5\n",
    "0x683a4F9915D6216f73d6Df50151725036bD26C02 0x683a...6C02 6\n",
    "0x8962285fAac45a7CBc75380c484523Bb7c32d429 0x8962...d429 8\n",
    "0x88FB3D509fC49B515BFEb04e23f53ba339563981 0x88FB...3981 9\n",
    "0x553F674dD7D102ad79C644103974a1cc53b62Ac2 0x553F...2Ac2 11\n",
    "0x47C125DEe6898b6CB2379bCBaFC823Ff3f614770 0x47C1...4770 12\n",
    "\"\"\"\n",
    "\n",
    "df_raw['newBalance'] = df_raw['newBalance'].astype(float) / 1e18\n",
    "df_raw['blockNumber'] = df_raw['blockNumber'].astype(int)\n",
    "\n",
    "# Create a new DataFrame from the filtered data\n",
    "df_events = df_raw.copy()"
   ]
  },
  {
   "cell_type": "code",
   "execution_count": 29,
   "id": "e746672c",
   "metadata": {},
   "outputs": [],
   "source": [
    "# Load the CSV file into a DataFrame\n",
    "df_raw = pd.read_csv('data/delegatees_tally/Uniswap_UNITOKEN_delegate_tally_1.csv')\n",
    "\n",
    "# Convert voting_power to float\n",
    "df_raw['voting_power'] = df_raw['voting_power'].astype(float)\n",
    "\n",
    "# Remove rows where voting_power is 0\n",
    "df_raw = df_raw[df_raw['voting_power'] > 0]\n",
    "\n",
    "# Create a new DataFrame from the filtered data\n",
    "df_tally = df_raw.copy()"
   ]
  },
  {
   "cell_type": "code",
   "execution_count": 30,
   "id": "9cd8f61a",
   "metadata": {},
   "outputs": [],
   "source": [
    "# Read the CSV file of Uniswap Governor Bravo Proposals\n",
    "df_raw = pd.read_csv(\"./data/Uniswap_GOVERNORBRAVO_proposals.csv\")\n",
    "\n",
    "# Convert the 'votesWeight' column to Decimal\n",
    "df_raw['votesWeight'] = df_raw['votesWeight'].apply(Decimal)\n",
    "\n",
    "# Convert the 'votesWeight' column to a human-readable format (base unit)\n",
    "df_raw['votesWeight'] = df_raw['votesWeight'].apply(lambda x: x / (10 ** 18))\n",
    "\n",
    "# Filter out rows with votesWeight equal to zero\n",
    "df_filtered = df_raw[df_raw['votesWeight'] > 0]\n",
    "\n",
    "# Create a new DataFrame from the filtered data\n",
    "df_proposals = df_filtered.copy()\n",
    "\n",
    "quorum = 40000000\n",
    "\n",
    "# Calculate the sum of vote weights for each proposal\n",
    "vote_weights_sum = df_proposals.groupby('proposalId')['votesWeight'].sum() # 23 proposals, three proposals didn't reach quorum\n",
    "\n",
    "# Create a boolean Series indicating if the proposal reached the quorum\n",
    "reached_quorum = vote_weights_sum >= quorum\n",
    "\n",
    "# Filter the vote_weights_sum\n",
    "filtered_vote_weights_sum = vote_weights_sum[reached_quorum]\n",
    "\n",
    "# Convert filtered_vote_weights_sum index to a list\n",
    "filtered_proposal_ids = filtered_vote_weights_sum.index.tolist()\n",
    "\n",
    "# Filter df to contain only the proposals in filtered_proposal_ids\n",
    "df_filtered = df_proposals[df_proposals['proposalId'].isin(filtered_proposal_ids)]\n",
    "\n",
    "# Function to extract voter address from votesId\n",
    "def extract_voter_address(votesId):\n",
    "    return votesId.split('|')[1].split(':')[-1]\n",
    "\n",
    "df_filtered = df_filtered.copy()\n",
    "\n",
    "# Create a new column 'voter_address' by applying the function to the 'votesId' column\n",
    "df_filtered.loc[:, 'voter_address'] = df_proposals['votesId'].apply(extract_voter_address)"
   ]
  },
  {
   "cell_type": "code",
   "execution_count": 31,
   "id": "5fba2016",
   "metadata": {},
   "outputs": [
    {
     "data": {
      "image/png": "[encoded data removed]",
      "text/plain": [
       "<Figure size 1152x576 with 2 Axes>"
      ]
     },
     "metadata": {
      "needs_background": "light"
     },
     "output_type": "display_data"
    }
   ],
   "source": [
    "# Define the function that will format the y-axis values\n",
    "def millions(x, pos):\n",
    "    'The two args are the value and tick position'\n",
    "    return '{:.1f}M'.format(x*1e-6)\n",
    "\n",
    "# Filter out rows where the voter_address is the address of interest\n",
    "df_filtered_address = df_filtered[df_filtered['voter_address'] == address_of_interest]\n",
    "\n",
    "df_events['relativeBlock'] = ((df_events['blockNumber'] - df_events['blockNumber'].min()) / \n",
    "                              (df_events['blockNumber'].max() - df_events['blockNumber'].min())) * 100\n",
    "\n",
    "# Extract block numbers where proposals were voted on with 'FOR' and 'AGAINST' votes\n",
    "voted_for_proposal_blocks = df_filtered_address[df_filtered_address['votesSupport'] == 'FOR']['proposalEndBlock'].unique()\n",
    "voted_against_proposal_blocks = df_filtered_address[df_filtered_address['votesSupport'] == 'AGAINST']['proposalEndBlock'].unique()\n",
    "\n",
    "# Calculate relative proposal block numbers\n",
    "voted_for_proposal_blocks_relative = ((voted_for_proposal_blocks - df_events['blockNumber'].min()) /\n",
    "                                      (df_events['blockNumber'].max() - df_events['blockNumber'].min())) * 100\n",
    "\n",
    "voted_against_proposal_blocks_relative = ((voted_against_proposal_blocks - df_events['blockNumber'].min()) /\n",
    "                                          (df_events['blockNumber'].max() - df_events['blockNumber'].min())) * 100\n",
    "\n",
    "fig, (ax1, ax2) = plt.subplots(1, 2, figsize=(16, 8), gridspec_kw={'width_ratios': [3, 1]})\n",
    "\n",
    "# Plot delegated voting power over relative block number\n",
    "ax1.plot(df_events['relativeBlock'], df_events['newBalance'], label='Delegated Voting Power', color='black')\n",
    "\n",
    "# Add green dots for when proposals were voted on with 'FOR' votes\n",
    "for block in voted_for_proposal_blocks_relative:\n",
    "    nearest_block = df_events['relativeBlock'].sub(block).abs().idxmin()\n",
    "    power_at_block = df_events.loc[nearest_block, 'newBalance']\n",
    "    ax1.scatter(block, power_at_block, color='green', label='FOR Votes')  # Change color as needed\n",
    "\n",
    "# Add red dots for when proposals were voted on with 'AGAINST' votes\n",
    "for block in voted_against_proposal_blocks_relative:\n",
    "    nearest_block = df_events['relativeBlock'].sub(block).abs().idxmin()\n",
    "    power_at_block = df_events.loc[nearest_block, 'newBalance']\n",
    "    ax1.scatter(block, power_at_block, color='red', label='AGAINST Votes')  # Change color as needed\n",
    "\n",
    "# Create the formatter\n",
    "formatter = FuncFormatter(millions)\n",
    "\n",
    "ax1.set_xlabel('Relative Block Number (%)')\n",
    "ax1.set_ylabel('Delegated Voting Power (in Million)')\n",
    "ax1.set_ylim(bottom=0)  # Set the lower limit of y-axis to 0\n",
    "\n",
    "# Apply the formatter to the y-axis\n",
    "ax1.yaxis.set_major_formatter(formatter)\n",
    "ax2.yaxis.set_major_formatter(formatter)\n",
    "\n",
    "# Remove top and right spines\n",
    "ax1.spines['top'].set_visible(False)\n",
    "ax1.spines['right'].set_visible(False)\n",
    "ax2.spines['top'].set_visible(False)\n",
    "ax2.spines['right'].set_visible(False)\n",
    "\n",
    "# Create legend\n",
    "legend_elements = [Line2D([0], [0], marker='o', color='w', markerfacecolor='green', markersize=10, label='FOR'),\n",
    "                   Line2D([0], [0], marker='o', color='w', markerfacecolor='red', markersize=10, label='AGAINST')]\n",
    "\n",
    "ax1.legend(handles=legend_elements, loc='lower right')\n",
    "# ax1.set_title('Temporal Progression of Delegated Voting Power with Proposal Participation for Address 0x2B1A...5fF4')\n",
    "ymin, ymax = ax1.get_ylim()\n",
    "ax1.set_ylim(ymin, ymax * 1.05)\n",
    "\n",
    "\n",
    "# Histogram\n",
    "ax2.hist(df_tally['voting_power'], bins=50, color='gray', edgecolor='black', alpha=0.8, orientation='horizontal')\n",
    "ax2.set_xlabel('Number of Delegators')\n",
    "ax2.set_ylabel('Delegated Voting Power (in Million)')\n",
    "ax2.set_ylim(bottom=0)  # Set the lower limit of y-axis to 0\n",
    "# ax2.set_title('Distribution of Delegated Voting Power')\n",
    "\n",
    "plt.savefig('plots/01_progression.pdf', bbox_inches='tight')\n",
    "plt.show()"
   ]
  },
  {
   "cell_type": "markdown",
   "id": "670eb28e",
   "metadata": {},
   "source": [
    "## Previous Code / Not Considered"
   ]
  },
  {
   "cell_type": "code",
   "execution_count": 292,
   "id": "d6ea80b3",
   "metadata": {},
   "outputs": [
    {
     "data": {
      "image/png": "[encoded data removed]",
      "text/plain": [
       "<Figure size 720x72 with 1 Axes>"
      ]
     },
     "metadata": {
      "needs_background": "light"
     },
     "output_type": "display_data"
    },
    {
     "name": "stdout",
     "output_type": "stream",
     "text": [
      "73770506.13772672\n",
      "45433774.79567039\n"
     ]
    }
   ],
   "source": [
    "# OLD: Approximation with voting weights mean used in proposals\n",
    "# approx. because of median (problems with api)\n",
    "\n",
    "# Sort the addresses by median voting weight in descending order\n",
    "sorted_median_voting_weight = median_voting_weight.sort_values(ascending=False)\n",
    "\n",
    "# Calculate the relative voting power for each address\n",
    "relative_voting_power = sorted_median_voting_weight / sorted_median_voting_weight.sum()\n",
    "\n",
    "# Sort the relative voting power in descending order\n",
    "sorted_relative_voting_power = relative_voting_power.sort_values(ascending=False)\n",
    "\n",
    "# Calculate the cumulative sum of the relative voting power\n",
    "cumulative_relative_voting_power = np.insert(sorted_relative_voting_power.cumsum().values, 0, 0)[:-1]\n",
    "\n",
    "# Define the colors for the bars\n",
    "colors = ['gray'] * len(sorted_relative_voting_power)\n",
    "\n",
    "# Plot the horizontal stacked bar chart\n",
    "fig, ax = plt.subplots(figsize=(10, 1))\n",
    "ax.bar(x=cumulative_relative_voting_power,\n",
    "       width=sorted_relative_voting_power,\n",
    "       bottom=0,\n",
    "       height=0.5,\n",
    "       color=colors,\n",
    "       edgecolor='black',\n",
    "       linewidth=1,\n",
    "       align='edge')\n",
    "\n",
    "# Set the labels and title\n",
    "ax.set_xlabel('Cumulative Relative Voting Power')\n",
    "ax.set_title('Voting Power Distribution Among Delegates That Voted')\n",
    "\n",
    "# Remove y-axis ticks and labels\n",
    "ax.set_yticks([])\n",
    "\n",
    "# Set the x-axis limits to 0-100%\n",
    "ax.set_xlim(0, 1)\n",
    "\n",
    "# Remove the upper and right lines of the graph\n",
    "ax.spines['top'].set_visible(False)\n",
    "ax.spines['right'].set_visible(False)\n",
    "\n",
    "# Add a red vertical line at 0.5\n",
    "ax.axvline(x=0.5, color='#117B78', linestyle='--')\n",
    "\n",
    "# Save SVG\n",
    "plt.savefig('distribution.svg', dpi=300, bbox_inches='tight')\n",
    "\n",
    "# Display the plot\n",
    "plt.show()\n",
    "\n",
    "# Nakamoto Delegates: 11\n",
    "# Gini: approx. 0.97\n",
    "\n",
    "sum_11_largest = sorted_median_voting_weight.nlargest(11).sum()\n",
    "print(sum_11_largest) # 11 Delegates could control the whole protocol, approx. 73 Mil\n",
    "\n",
    "sum_5_largest = sorted_median_voting_weight.nlargest(5).sum()\n",
    "print(sum_5_largest) # 5 Delegates could pass quorum, and control protocol if others are not aware, approx 45 Mil"
   ]
  },
  {
   "cell_type": "code",
   "execution_count": 270,
   "id": "07406d03",
   "metadata": {},
   "outputs": [
    {
     "data": {
      "image/png": "[encoded data removed]",
      "text/plain": [
       "<Figure size 432x288 with 1 Axes>"
      ]
     },
     "metadata": {
      "needs_background": "light"
     },
     "output_type": "display_data"
    }
   ],
   "source": [
    "# OLD: Approximation with voting weights mean used in proposals\n",
    "# Create distribution of voting weights\n",
    "\n",
    "# Function to extract voter address from votesId\n",
    "def extract_voter_address(votesId):\n",
    "    return votesId.split('|')[1].split(':')[-1]\n",
    "\n",
    "quorum = 40000000000000000000000000  # quorum value\n",
    "quorum_base_unit = quorum / (10 ** 18)  # convert quorum to base unit\n",
    "log_quorum = np.log10(float(quorum_base_unit))\n",
    "\n",
    "# Create a new column 'voter_address' by applying the function to the 'votesId' column\n",
    "df.loc[:, 'voter_address'] = df['votesId'].apply(extract_voter_address)\n",
    "\n",
    "# Group the filtered data by voter address and calculate the median voting weight for each address\n",
    "median_voting_weight = df.groupby('voter_address')['votesWeight'].median()\n",
    "\n",
    "# Apply logarithmic transformation to the median_voting_weight values\n",
    "log_median_voting_weight = np.log10(median_voting_weight)\n",
    "\n",
    "# Create a histogram to visualize the distribution of the log-transformed median voting weights\n",
    "fig, ax = plt.subplots()\n",
    "plt.hist(log_median_voting_weight, bins=50, color='gray', edgecolor='black', alpha=0.8)\n",
    "\n",
    "# Insert a vertical line at the quorum\n",
    "plt.axvline(log_quorum, color='#117B78', linestyle='--', label='Quorum')\n",
    "plt.legend()\n",
    "\n",
    "# Set the labels and limits\n",
    "ax.set_xlabel('Log10(Median Voting Weight)')\n",
    "ax.set_ylabel('Frequency')\n",
    "ax.set_title('Distribution of Log-transformed \\n Median Voting Weight per Address')\n",
    "\n",
    "# Remove the upper and right lines of the graph\n",
    "ax.spines['top'].set_visible(False)\n",
    "ax.spines['right'].set_visible(False)\n",
    "\n",
    "# Save the plot as a SVG image with a DPI of 300\n",
    "plt.savefig('log_distribution_voting_weight_per_address.svg', dpi=300, bbox_inches='tight')\n",
    "\n",
    "# Show the plot\n",
    "plt.show()"
   ]
  },
  {
   "cell_type": "code",
   "execution_count": 290,
   "id": "b4c46127",
   "metadata": {},
   "outputs": [
    {
     "data": {
      "image/png": "[encoded data removed]",
      "text/plain": [
       "<Figure size 1152x288 with 4 Axes>"
      ]
     },
     "metadata": {
      "needs_background": "light"
     },
     "output_type": "display_data"
    }
   ],
   "source": [
    "# RVT (Goldberg & Schär)\n",
    "\n",
    "# Function to calculate the Relative Vote Timing (RVT)\n",
    "def calculate_rvt(vote_timestamp, start_timestamp, end_timestamp):\n",
    "    return (vote_timestamp - start_timestamp) / (end_timestamp - start_timestamp)\n",
    "\n",
    "# Convert the timestamps to datetime objects\n",
    "df['votesTimestamp'] = pd.to_datetime(df['votesTimestamp'])\n",
    "df['proposalStart'] = pd.to_datetime(df['proposalStart'])\n",
    "df['proposalEnd'] = pd.to_datetime(df['proposalEnd'])\n",
    "\n",
    "# Calculate the RVT for each vote\n",
    "df['RVT'] = df.apply(lambda row: calculate_rvt(row['votesTimestamp'], row['proposalStart'], row['proposalEnd']), axis=1)\n",
    "\n",
    "# Define the thresholds for the groups\n",
    "thresholds = [0, 1000, 100000, 1000000,  float('inf')]\n",
    "\n",
    "# Define the labels for the groups\n",
    "group_labels = ['<1K', '1K-100K', '100K-1M', '>1M']\n",
    "\n",
    "# Create a new column 'group' in the DataFrame using the thresholds and labels\n",
    "df['group'] = pd.cut(df['votesWeight'], bins=thresholds, labels=group_labels)\n",
    "\n",
    "def plot_rvt_by_group(df):\n",
    "    # Define the bins for the histogram\n",
    "    bins = [i / 10 for i in range(11)]\n",
    "    bar_width = 0.1  # No gaps between bars\n",
    "\n",
    "    # Get the list of unique groups\n",
    "    unique_groups = df['group'].unique()\n",
    "    \n",
    "     # Sort the unique_groups based on group_labels\n",
    "    unique_groups = sorted(unique_groups, key=lambda x: group_labels.index(x))\n",
    "\n",
    "    # Create subplots for the bar charts\n",
    "    num_groups = len(unique_groups)\n",
    "    fig, axes = plt.subplots(1, num_groups, figsize=(4 * num_groups, 4), sharey=True)\n",
    "\n",
    "    # Loop through the unique groups and plot the RVT histogram for each group\n",
    "    for i, group in enumerate(unique_groups):\n",
    "        group_data = df[df['group'] == group]\n",
    "        rvt_counts, _ = np.histogram(group_data[\"RVT\"], bins=bins)\n",
    "        rvt_freq = rvt_counts / sum(rvt_counts)\n",
    "\n",
    "        axes[i].bar(bins[:-1], rvt_freq, width=bar_width, align='edge', color='gray', edgecolor='black')\n",
    "        axes[i].set_xlabel('Relative Vote Timing')\n",
    "        axes[i].set_title(f'Voting Behavior for VP {group}')\n",
    "\n",
    "        # Set y-axis label only for the first subplot\n",
    "        if i == 0:\n",
    "            axes[i].set_ylabel('Frequency')\n",
    "            \n",
    "        # Enable y-axis tick labels for all subplots\n",
    "        axes[i].yaxis.set_tick_params(which='both', labelleft=True)\n",
    "\n",
    "        # Set x-axis and y-axis limits\n",
    "        axes[i].set_xlim(-0.1, 1.1)\n",
    "        axes[i].set_ylim(0, max(rvt_freq) * 1.7)\n",
    "\n",
    "        # Remove the upper and right lines of the graph\n",
    "        axes[i].spines['top'].set_visible(False)\n",
    "        axes[i].spines['right'].set_visible(False)\n",
    "\n",
    "    # Display the plots\n",
    "    plt.tight_layout()\n",
    "    # Save the plot as a SVG image with a DPI of 300\n",
    "    plt.savefig('rtv.svg', dpi=300, bbox_inches='tight')\n",
    "    plt.show()\n",
    "\n",
    "# Call the function with the DataFrame\n",
    "plot_rvt_by_group(df)"
   ]
  }
 ],
 "metadata": {
  "kernelspec": {
   "display_name": "Python 3 (ipykernel)",
   "language": "python",
   "name": "python3"
  },
  "language_info": {
   "codemirror_mode": {
    "name": "ipython",
    "version": 3
   },
   "file_extension": ".py",
   "mimetype": "text/x-python",
   "name": "python",
   "nbconvert_exporter": "python",
   "pygments_lexer": "ipython3",
   "version": "3.9.12"
  }
 },
 "nbformat": 4,
 "nbformat_minor": 5
}
