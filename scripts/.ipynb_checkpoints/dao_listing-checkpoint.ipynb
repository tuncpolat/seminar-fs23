{
 "cells": [
  {
   "cell_type": "code",
   "execution_count": null,
   "id": "63749037",
   "metadata": {},
   "outputs": [],
   "source": [
    "# list daos"
   ]
  },
  {
   "cell_type": "code",
   "execution_count": 8,
   "id": "96eb7f67",
   "metadata": {},
   "outputs": [],
   "source": [
    "import pandas as pd\n",
    "import os"
   ]
  },
  {
   "cell_type": "code",
   "execution_count": 21,
   "id": "490d780a",
   "metadata": {},
   "outputs": [],
   "source": [
    "os.chdir(r\"C:\\Users\\tunc-\\Desktop\\uni\\04_FS23\\seminar\\03_code\")"
   ]
  },
  {
   "cell_type": "code",
   "execution_count": 1,
   "id": "99413875",
   "metadata": {},
   "outputs": [],
   "source": [
    "# Infura\n",
    "url = \"https://mainnet.infura.io/v3/2a40076f1383494a91dd0e881dc6ac14\""
   ]
  },
  {
   "cell_type": "code",
   "execution_count": null,
   "id": "26e71937",
   "metadata": {},
   "outputs": [],
   "source": []
  }
 ],
 "metadata": {
  "kernelspec": {
   "display_name": "Python 3 (ipykernel)",
   "language": "python",
   "name": "python3"
  },
  "language_info": {
   "codemirror_mode": {
    "name": "ipython",
    "version": 3
   },
   "file_extension": ".py",
   "mimetype": "text/x-python",
   "name": "python",
   "nbconvert_exporter": "python",
   "pygments_lexer": "ipython3",
   "version": "3.9.12"
  }
 },
 "nbformat": 4,
 "nbformat_minor": 5
}
