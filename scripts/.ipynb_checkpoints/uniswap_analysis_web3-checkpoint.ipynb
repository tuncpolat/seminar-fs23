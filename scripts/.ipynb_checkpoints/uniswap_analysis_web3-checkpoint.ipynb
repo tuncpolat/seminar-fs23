{
 "cells": [
  {
   "cell_type": "code",
   "execution_count": 1,
   "id": "badbe728",
   "metadata": {},
   "outputs": [],
   "source": [
    "from web3 import Web3\n",
    "import pandas as pd\n",
    "from brownie import *\n"
   ]
  },
  {
   "cell_type": "code",
   "execution_count": 3,
   "id": "cd6e831b",
   "metadata": {},
   "outputs": [],
   "source": [
    "%load_ext dotenv\n",
    "%dotenv\n",
    "\n",
    "\n",
    "dai_address = \"0x6b175474e89094c44da98b954eedeac495271d0f\"\n",
    "dai_uni_exchange_address = \"0x2a1530C4C41db0B0b2bB646CB5Eb1A67b7158667\"\n",
    "me = \"0xC0FFEE93EE3451101EE3fc9ebdba97982a82f068\" # my caffinated ethereum address\n",
    "\n",
    "uni_token_contract_address = \"0x1f9840a85d5aF5bf1D1762F925BDADdC4201F984\" # Uniswap UNI token contract address\n",
    "uni_governorbravo_contract_address = \"0x408ED6354d4973f66138C91495F2f2FCbd8724C3\" # Uni Governor Bravo address\n",
    "uni_timelock_contract_address = \"0x1a9C8182C09F50C8318d769245beA52c32BE35BC\" # Uni Governor Bravo address"
   ]
  },
  {
   "cell_type": "code",
   "execution_count": 4,
   "id": "3e1c73cd",
   "metadata": {},
   "outputs": [
    {
     "name": "stdout",
     "output_type": "stream",
     "text": [
      "Connected to: mainnet\n"
     ]
    }
   ],
   "source": [
    "if network.is_connected():\n",
    "    network.disconnect()\n",
    "network.connect(\"mainnet\")\n",
    "print(\"Connected to:\", network.show_active())"
   ]
  },
  {
   "cell_type": "code",
   "execution_count": 7,
   "id": "63f2c6de",
   "metadata": {},
   "outputs": [
    {
     "name": "stdout",
     "output_type": "stream",
     "text": [
      "Fetching source of 0x1f9840a85d5aF5bf1D1762F925BDADdC4201F984 from api.etherscan.io...\n"
     ]
    },
    {
     "name": "stderr",
     "output_type": "stream",
     "text": [
      "Downloading from https://solc-bin.ethereum.org/windows-amd64/solc-windows-amd64-v0.5.16+commit.9c3226ce.zip\n",
      "100%|████████████████████████████████████████████████████████████████████████████| 6.97M/6.97M [00:04<00:00, 1.40MiB/s]\n",
      "Using solc version 0.5.16\n",
      "solc 0.5.16 successfully installed at: C:\\Users\\tunc-\\.solcx\\solc-v0.5.16\\solc.exe\n"
     ]
    }
   ],
   "source": [
    "# Load the Uni Token contract!\n",
    "Uni = Contract.from_explorer(uni_token_contract_address)"
   ]
  },
  {
   "cell_type": "code",
   "execution_count": 10,
   "id": "bcf7bb14",
   "metadata": {},
   "outputs": [],
   "source": [
    "# Load the UNI Token Contract as web3 contract object.\n",
    "WUni = web3.eth.contract(Uni.address, abi=Uni.abi)"
   ]
  },
  {
   "cell_type": "code",
   "execution_count": 12,
   "id": "9284bc37",
   "metadata": {},
   "outputs": [
    {
     "data": {
      "text/plain": [
       "[<Function DELEGATION_TYPEHASH()>,\n",
       " <Function DOMAIN_TYPEHASH()>,\n",
       " <Function PERMIT_TYPEHASH()>,\n",
       " <Function allowance(address,address)>,\n",
       " <Function approve(address,uint256)>,\n",
       " <Function balanceOf(address)>,\n",
       " <Function checkpoints(address,uint32)>,\n",
       " <Function decimals()>,\n",
       " <Function delegate(address)>,\n",
       " <Function delegateBySig(address,uint256,uint256,uint8,bytes32,bytes32)>,\n",
       " <Function delegates(address)>,\n",
       " <Function getCurrentVotes(address)>,\n",
       " <Function getPriorVotes(address,uint256)>,\n",
       " <Function minimumTimeBetweenMints()>,\n",
       " <Function mint(address,uint256)>,\n",
       " <Function mintCap()>,\n",
       " <Function minter()>,\n",
       " <Function mintingAllowedAfter()>,\n",
       " <Function name()>,\n",
       " <Function nonces(address)>,\n",
       " <Function numCheckpoints(address)>,\n",
       " <Function permit(address,address,uint256,uint256,uint8,bytes32,bytes32)>,\n",
       " <Function setMinter(address)>,\n",
       " <Function symbol()>,\n",
       " <Function totalSupply()>,\n",
       " <Function transfer(address,uint256)>,\n",
       " <Function transferFrom(address,address,uint256)>]"
      ]
     },
     "execution_count": 12,
     "metadata": {},
     "output_type": "execute_result"
    }
   ],
   "source": [
    "WUni.all_functions()"
   ]
  },
  {
   "cell_type": "code",
   "execution_count": 18,
   "id": "5588b475",
   "metadata": {},
   "outputs": [
    {
     "name": "stdout",
     "output_type": "stream",
     "text": [
      "0\n"
     ]
    }
   ],
   "source": [
    "print(Uni.balanceOf(\"0x8962285faac45a7cbc75380c484523bb7c32d429\"))"
   ]
  },
  {
   "cell_type": "code",
   "execution_count": 19,
   "id": "572d5656",
   "metadata": {},
   "outputs": [
    {
     "name": "stdout",
     "output_type": "stream",
     "text": [
      "7033011576034935433544893\n"
     ]
    }
   ],
   "source": [
    "print(Uni.getCurrentVotes(\"0x8962285faac45a7cbc75380c484523bb7c32d429\"))"
   ]
  },
  {
   "cell_type": "code",
   "execution_count": 20,
   "id": "349fc44d",
   "metadata": {},
   "outputs": [
    {
     "name": "stdout",
     "output_type": "stream",
     "text": [
      "0x0000000000000000000000000000000000000000\n"
     ]
    }
   ],
   "source": [
    "print(Uni.delegates(\"0x8962285faac45a7cbc75380c484523bb7c32d429\"))"
   ]
  },
  {
   "cell_type": "code",
   "execution_count": null,
   "id": "194a51ae",
   "metadata": {},
   "outputs": [],
   "source": []
  },
  {
   "cell_type": "code",
   "execution_count": null,
   "id": "9e5d1eda",
   "metadata": {},
   "outputs": [],
   "source": [
    "# calc current votes of single addresses (new file), make two distribution plots again (so no approx anymore)\n",
    "# make delegation plots\n",
    "# finish/correct quadratic voting"
   ]
  }
 ],
 "metadata": {
  "kernelspec": {
   "display_name": "Python 3 (ipykernel)",
   "language": "python",
   "name": "python3"
  },
  "language_info": {
   "codemirror_mode": {
    "name": "ipython",
    "version": 3
   },
   "file_extension": ".py",
   "mimetype": "text/x-python",
   "name": "python",
   "nbconvert_exporter": "python",
   "pygments_lexer": "ipython3",
   "version": "3.9.12"
  }
 },
 "nbformat": 4,
 "nbformat_minor": 5
}
